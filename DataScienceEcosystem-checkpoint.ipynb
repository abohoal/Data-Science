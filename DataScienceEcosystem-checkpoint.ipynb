{
 "cells": [
  {
   "cell_type": "markdown",
   "id": "e42138bc-1489-43f3-8153-9e0fc5c8b40d",
   "metadata": {},
   "source": [
    "# Data Science Tools and Ecosystem"
   ]
  },
  {
   "cell_type": "markdown",
   "id": "154a441d-c6bc-403f-8a9a-009610102f7b",
   "metadata": {},
   "source": [
    "##### In this notebook, Data Science Tools and Ecosystem are summarized."
   ]
  },
  {
   "cell_type": "markdown",
   "id": "3a0cad83-2964-48ed-88ae-553a2d03a28f",
   "metadata": {},
   "source": [
    "## Objectives:"
   ]
  },
  {
   "cell_type": "markdown",
   "id": "658181b2-19d0-4783-89d2-a63c1950d028",
   "metadata": {},
   "source": [
    "- Explore and recognize popular languages used in Data Science, including Python, R, and Julia.\n",
    "- Understand the importance of data science libraries such as NumPy, Pandas, and Matplotlib in Python.\n",
    "- Gain familiarity with development environments like Jupyter Notebooks, RStudio, and VS Code for Data Science.\n",
    "- Learn and apply basic arithmetic expressions in Python for mathematical operations.\n",
    "- Explore practical examples of converting units, such as converting minutes to hours, using Python.\n"
   ]
  },
  {
   "cell_type": "markdown",
   "id": "d63b6f73-5d6b-4838-8e77-e52cee89bce2",
   "metadata": {},
   "source": [
    "## Some of the popular languages that Data Scientists use are:\r\n",
    "\r\n",
    "1. **Python:** Python is one of the most widely used languages in the field of data science. It has a rich ecosystem of libraries and frameworks, such as NumPy, Pandas, Scikit-learn, TensorFlow, and PyTorch, that make it suitable for various data science tasks.\r\n",
    "\r\n",
    "2. **R:** R is specifically designed for statistical computing and data analysis. It has a strong community of statisticians and data scientists, and it provides a variety of packages for data manipulation and visualization.\r\n",
    "\r\n",
    "3. **SQL:** While not a programming language in the traditional sense, SQL (Structured Query Language) is crucial for data scientists to interact with relational databases. It is used for querying and managing structured data.\r\n",
    "\r\n",
    "4. **Julia:** Julia is a high-performance programming language designed for technical computing. It is gaining popularity in data science due to its speed and ease of use, particularly for tasks involving numerical and scientific computing.\r\n",
    "\r\n",
    "5. **Java:** Java is a versatile, object-oriented programming language used in various domains, including big data processing. It's commonly used with Apache Hadoop and Apache Spark for distributed machine learning.\r\n"
   ]
  },
  {
   "cell_type": "markdown",
   "id": "c0539e29-3dc6-470b-8d84-c73666eb705c",
   "metadata": {},
   "source": [
    "## Some of the commonly used libraries used by Data Scientists include:\r\n",
    "\r\n",
    "1. **NumPy**: Fundamental package for scientific computing with Python, providing support for large, multi-dimensional arrays and matrices.\r\n",
    "\r\n",
    "2. **Pandas**: Data manipulation and analysis library, offering data structures for efficient manipulation and cleaning of structured data.\r\n",
    "\r\n",
    "3. **Matplotlib**: Comprehensive library for creating static, animated, and interactive visualizations in Python.\r\n",
    "\r\n",
    "4. **Seaborn**: Data visualization library based on Matplotlib, providing a high-level interface for creating attractive and informative statistical graphics.\r\n",
    "\r\n",
    "5. **Scikit-learn**: Simple and efficient tools for data mining and data analysis, including various machine learning algorithms.\r\n",
    "\r\n",
    "6. **TensorFlow**: Open-source machine learning framework developed by Google for building and training neural network models.\r\n",
    "\r\n",
    "7. **PyTorch**: Deep learning framework that allows for dynamic computation graphs and is widely used in research and production for building neural network models.\r\n",
    "\r\n",
    "8. **SciPy**: Open-source library used for scientific and technical computing, building on NumPy, with additional modules for optimization, integration, interpolation, eigenvalue problems, and more.\r\n",
    "\r\n",
    "9. **Statsmodels**: Library for estimating and testing statistical models, providing classes and functions for statistical analysis.\r\n",
    "\r\n",
    "10. **NLTK (Natural Language Toolkit)**: Library for working with human language data, including various tools for text processing, classification, tokenization, and more.\r\n",
    "\r\n",
    "11. **Scrapy**: An open-source and collaborative web crawling framework for Python, used for extracting data from websites.\r\n",
    "\r\n",
    "12. **Keras**: High-level neural networks API, running on top of TensorFlow or Theano, designed to enable fast experimentation with deep neural networks.\r\n",
    "\r\n",
    "13. **Bokeh**: Interactive visualization library that targets modern web browsers for presentation, creating interactive plots and dashboards.\r\n",
    "\r\n",
    "14. **Folium**: Python wrapper for Leaflet.js, a leading open-source JavaScript library for interactive maps.\r\n",
    "\r\n",
    "15. **XGBoost**: Gradient boosting library designed for speed and performance, widely used for supervised learning tasks.\r\n",
    "\r\n",
    "Feel free to explore these libraries based on your specific data science need\r\n"
   ]
  },
  {
   "cell_type": "markdown",
   "id": "2a77b21f-a1db-4117-8162-c4be81f204c7",
   "metadata": {},
   "source": [
    "| Data Science Tools        |\r\n",
    "|---------------------------|\r\n",
    "| Jupyter Notebooks         |\r\n",
    "| RStudio                   |\r\n",
    "| VS Code with Python       |\r\n"
   ]
  },
  {
   "cell_type": "markdown",
   "id": "b9a2144e-8877-444a-b674-fe7327869f12",
   "metadata": {},
   "source": [
    "### Arithmetic Expression Examples\r\n",
    "\r\n",
    "Below are a few examples of evaluating arithmetic expressions in Python. In Python, you can perform various arithmetic operations using operators such as addition (+), subtraction (-), multiplication (*), division (/), and more. Here are some basic examples:\r\n",
    "\r\n",
    "1. Addition:\r\n",
    "   ```python\r\n",
    "   result = 5 + 3\r\n",
    "   print(result)  # Output: 8\r\n"
   ]
  },
  {
   "cell_type": "markdown",
   "id": "68f79a3b-1c01-4cea-8001-8112a0ea3054",
   "metadata": {},
   "source": [
    "result = 10 - 4\r\n",
    "print(result)  # Output: 6\r\n"
   ]
  },
  {
   "cell_type": "code",
   "execution_count": 1,
   "id": "aedbd362-033b-4938-9c56-ea0cb73efe61",
   "metadata": {},
   "outputs": [
    {
     "name": "stdout",
     "output_type": "stream",
     "text": [
      "17\n"
     ]
    }
   ],
   "source": [
    "# This is a simple arithmetic expression to multiply then add integers.\n",
    "result = (3 * 4) + 5\n",
    "print(result)\n"
   ]
  },
  {
   "cell_type": "code",
   "execution_count": 2,
   "id": "9a4d8de7-7e47-4a34-87c5-1db1c4f8b252",
   "metadata": {},
   "outputs": [
    {
     "name": "stdout",
     "output_type": "stream",
     "text": [
      "3.3333333333333335\n"
     ]
    }
   ],
   "source": [
    "# This will convert 200 minutes to hours by dividing by 60.\n",
    "minutes = 200\n",
    "hours = minutes / 60\n",
    "print(hours)\n"
   ]
  },
  {
   "cell_type": "markdown",
   "id": "f95cef43-71e9-4b8d-9634-9bac6d31f037",
   "metadata": {},
   "source": [
    "## Author\n",
    "Yaser ALhazmi"
   ]
  }
 ],
 "metadata": {
  "kernelspec": {
   "display_name": "Python 3 (ipykernel)",
   "language": "python",
   "name": "python3"
  },
  "language_info": {
   "codemirror_mode": {
    "name": "ipython",
    "version": 3
   },
   "file_extension": ".py",
   "mimetype": "text/x-python",
   "name": "python",
   "nbconvert_exporter": "python",
   "pygments_lexer": "ipython3",
   "version": "3.12.0"
  }
 },
 "nbformat": 4,
 "nbformat_minor": 5
}
